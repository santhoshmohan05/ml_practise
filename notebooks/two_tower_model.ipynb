{
 "cells": [
  {
   "cell_type": "code",
   "execution_count": 18,
   "metadata": {},
   "outputs": [],
   "source": [
    "import numpy as np\n",
    "import pandas as pd\n",
    "import os\n",
    "import faiss"
   ]
  },
  {
   "cell_type": "markdown",
   "metadata": {},
   "source": [
    "Using dataset : https://www.kaggle.com/datasets/abhishekmungoli/amazon-query-product-search"
   ]
  },
  {
   "cell_type": "code",
   "execution_count": 37,
   "metadata": {},
   "outputs": [],
   "source": [
    "dataset_path = \"../DATASETS/amazon-product-query\"\n",
    "\n",
    "# dataset = pd.read_csv(os.path.join(dataset_path,\"dataset_150k.csv\"))\n",
    "\n",
    "product = pd.read_parquet(os.path.join(dataset_path, \"shopping_queries_dataset_products.parquet\"))\n",
    "product_embeddings = pd.read_csv(os.path.join(dataset_path, \"product_150k.csv\"))\n",
    "query_embeddings = pd.read_csv(os.path.join(dataset_path, \"query_150k.csv\"))\n",
    "dataset_combined = pd.read_csv(os.path.join(dataset_path,\"dataset_150k.csv\"))\n",
    "\n",
    "merged_product = pd.merge(product_embeddings, product.drop_duplicates(subset='product_id'), on=['product_id'])"
   ]
  },
  {
   "cell_type": "markdown",
   "metadata": {},
   "source": [
    "Checking for semantic similarity for product and query"
   ]
  },
  {
   "cell_type": "code",
   "execution_count": 38,
   "metadata": {},
   "outputs": [],
   "source": [
    "def runANN(df: pd.DataFrame, embedding_columns: list[str]):\n",
    "    embeddings = df[embedding_columns].to_numpy().astype(np.float32)\n",
    "    dimension = embeddings.shape[1]\n",
    "    print(f\"Dimension of embeddings : {dimension}\")\n",
    "    index = faiss.IndexFlatL2(dimension)\n",
    "    index.add(embeddings)\n",
    "    distances,indices = index.search(embeddings, 20)\n",
    "    return indices\n",
    "    "
   ]
  },
  {
   "cell_type": "code",
   "execution_count": 40,
   "metadata": {},
   "outputs": [
    {
     "name": "stdout",
     "output_type": "stream",
     "text": [
      "Dimension of embeddings : 160\n"
     ]
    },
    {
     "data": {
      "text/html": [
       "<div>\n",
       "<style scoped>\n",
       "    .dataframe tbody tr th:only-of-type {\n",
       "        vertical-align: middle;\n",
       "    }\n",
       "\n",
       "    .dataframe tbody tr th {\n",
       "        vertical-align: top;\n",
       "    }\n",
       "\n",
       "    .dataframe thead th {\n",
       "        text-align: right;\n",
       "    }\n",
       "</style>\n",
       "<table border=\"1\" class=\"dataframe\">\n",
       "  <thead>\n",
       "    <tr style=\"text-align: right;\">\n",
       "      <th></th>\n",
       "      <th>Item</th>\n",
       "      <th>Neighbors</th>\n",
       "    </tr>\n",
       "  </thead>\n",
       "  <tbody>\n",
       "    <tr>\n",
       "      <th>0</th>\n",
       "      <td>Crocs Kids' Handle It Rain Boots , Candy Pink,...</td>\n",
       "      <td>[Crocs Kids' Handle It Rain Boots , Candy Pink...</td>\n",
       "    </tr>\n",
       "    <tr>\n",
       "      <th>1</th>\n",
       "      <td>Hatley Kids' Little Classic Rain Boots, Pink &amp;...</td>\n",
       "      <td>[Hatley unisex child Classic Boots Raincoat, N...</td>\n",
       "    </tr>\n",
       "    <tr>\n",
       "      <th>2</th>\n",
       "      <td>Outee Rubber Kids Rain Boots</td>\n",
       "      <td>[Winthome Changing Towel Poncho Robe with Hood...</td>\n",
       "    </tr>\n",
       "    <tr>\n",
       "      <th>3</th>\n",
       "      <td>Hope &amp; Henry Girls' Red Milano Stitch Cardigan</td>\n",
       "      <td>[Hope &amp; Henry Girls' Milano Stitch Cardigan Na...</td>\n",
       "    </tr>\n",
       "    <tr>\n",
       "      <th>4</th>\n",
       "      <td>Spring&amp;Gege Youth Solid Full Zipper Hoodies So...</td>\n",
       "      <td>[Spring&amp;Gege Youth Solid Pullover Sport Hoodie...</td>\n",
       "    </tr>\n",
       "  </tbody>\n",
       "</table>\n",
       "</div>"
      ],
      "text/plain": [
       "                                                Item  \\\n",
       "0  Crocs Kids' Handle It Rain Boots , Candy Pink,...   \n",
       "1  Hatley Kids' Little Classic Rain Boots, Pink &...   \n",
       "2                       Outee Rubber Kids Rain Boots   \n",
       "3     Hope & Henry Girls' Red Milano Stitch Cardigan   \n",
       "4  Spring&Gege Youth Solid Full Zipper Hoodies So...   \n",
       "\n",
       "                                           Neighbors  \n",
       "0  [Crocs Kids' Handle It Rain Boots , Candy Pink...  \n",
       "1  [Hatley unisex child Classic Boots Raincoat, N...  \n",
       "2  [Winthome Changing Towel Poncho Robe with Hood...  \n",
       "3  [Hope & Henry Girls' Milano Stitch Cardigan Na...  \n",
       "4  [Spring&Gege Youth Solid Pullover Sport Hoodie...  "
      ]
     },
     "execution_count": 40,
     "metadata": {},
     "output_type": "execute_result"
    }
   ],
   "source": [
    "embedding_columns = product_embeddings.columns.to_list()\n",
    "embedding_columns.remove('product_id')\n",
    "indices = runANN(product_embeddings, embedding_columns)\n",
    "similar_product_df = pd.DataFrame([{\n",
    "    'Item' :   merged_product.iloc[i[0]]['product_title'],\n",
    "    'Neighbors' : [merged_product.iloc[x]['product_title'] for x in i[1:]]\n",
    "} for i in indices])\n",
    "\n",
    "similar_product_df.head()"
   ]
  },
  {
   "cell_type": "code",
   "execution_count": null,
   "metadata": {},
   "outputs": [
    {
     "name": "stdout",
     "output_type": "stream",
     "text": [
      "Dimension of embeddings : 32\n"
     ]
    },
    {
     "data": {
      "text/html": [
       "<div>\n",
       "<style scoped>\n",
       "    .dataframe tbody tr th:only-of-type {\n",
       "        vertical-align: middle;\n",
       "    }\n",
       "\n",
       "    .dataframe tbody tr th {\n",
       "        vertical-align: top;\n",
       "    }\n",
       "\n",
       "    .dataframe thead th {\n",
       "        text-align: right;\n",
       "    }\n",
       "</style>\n",
       "<table border=\"1\" class=\"dataframe\">\n",
       "  <thead>\n",
       "    <tr style=\"text-align: right;\">\n",
       "      <th></th>\n",
       "      <th>Item</th>\n",
       "      <th>Neighbors</th>\n",
       "    </tr>\n",
       "  </thead>\n",
       "  <tbody>\n",
       "    <tr>\n",
       "      <th>0</th>\n",
       "      <td>child proof cabinet locks</td>\n",
       "      <td>[child locks for cabinets, cabinet locks, cabi...</td>\n",
       "    </tr>\n",
       "    <tr>\n",
       "      <th>1</th>\n",
       "      <td>ankle stockings for women sheer</td>\n",
       "      <td>[cargo pants for men, short cowboy booties for...</td>\n",
       "    </tr>\n",
       "    <tr>\n",
       "      <th>2</th>\n",
       "      <td>gluten free snacks</td>\n",
       "      <td>[gluten free lemon cookie, heartland gluten fr...</td>\n",
       "    </tr>\n",
       "    <tr>\n",
       "      <th>3</th>\n",
       "      <td>hair geow</td>\n",
       "      <td>[arhletic sweatshirts, pink earrinfs, snoogle,...</td>\n",
       "    </tr>\n",
       "    <tr>\n",
       "      <th>4</th>\n",
       "      <td>1 by one, amplified, outdoor hdtv antenna</td>\n",
       "      <td>[lighting wired headphones, lego 14 years and ...</td>\n",
       "    </tr>\n",
       "  </tbody>\n",
       "</table>\n",
       "</div>"
      ],
      "text/plain": [
       "                                        Item  \\\n",
       "0                  child proof cabinet locks   \n",
       "1            ankle stockings for women sheer   \n",
       "2                         gluten free snacks   \n",
       "3                                  hair geow   \n",
       "4  1 by one, amplified, outdoor hdtv antenna   \n",
       "\n",
       "                                           Neighbors  \n",
       "0  [child locks for cabinets, cabinet locks, cabi...  \n",
       "1  [cargo pants for men, short cowboy booties for...  \n",
       "2  [gluten free lemon cookie, heartland gluten fr...  \n",
       "3  [arhletic sweatshirts, pink earrinfs, snoogle,...  \n",
       "4  [lighting wired headphones, lego 14 years and ...  "
      ]
     },
     "execution_count": 45,
     "metadata": {},
     "output_type": "execute_result"
    }
   ],
   "source": [
    "embedding_columns = query_embeddings.columns.to_list()\n",
    "embedding_columns.remove('query')\n",
    "indices = runANN(query_embeddings, embedding_columns)\n",
    "similar_query_df = pd.DataFrame([{\n",
    "    'Item' :   query_embeddings.iloc[i[0]]['query'],\n",
    "    'Neighbors' : [query_embeddings.iloc[x]['query'] for x in i[1:]]\n",
    "} for i in indices])\n",
    "\n",
    "similar_query_df.head()"
   ]
  },
  {
   "cell_type": "markdown",
   "metadata": {},
   "source": [
    "The Semantic search between product and query yields better results. so it captures the semantic meaning of the title and query. goin ahead with model creation and training"
   ]
  },
  {
   "cell_type": "code",
   "execution_count": null,
   "metadata": {},
   "outputs": [],
   "source": [
    "from torch import nn\n",
    "\n",
    "class TwoTower(nn.Module):\n",
    "    def __init__(self, query_embedding_dimension, product_embedding_dimension, *args, **kwargs):\n",
    "        super().__init__(*args, **kwargs)\n",
    "        self.query_embedding_layers = nn.Sequential(\n",
    "            nn.Linear(query_embedding_dimension, 32),\n",
    "            nn.BatchNorm1d(32),\n",
    "            nn.ReLU(),\n",
    "            nn.Linear(32, 32),\n",
    "            nn.BatchNorm1d(32),\n",
    "            nn.ReLU(),\n",
    "            nn.Linear(32, 32),\n",
    "            nn.BatchNorm1d(32),\n",
    "            nn.ReLU(),\n",
    "            nn.Dropout(0.3)\n",
    "            )\n",
    "        self.product_embedding_layers = nn.Sequential(\n",
    "            nn.Linear(product_embedding_dimension, 32),\n",
    "            nn.BatchNorm1d(32),\n",
    "            nn.ReLU(),\n",
    "            nn.Linear(32, 32),\n",
    "            nn.BatchNorm1d(32),\n",
    "            nn.ReLU(),\n",
    "            nn.Linear(32, 32),\n",
    "            nn.BatchNorm1d(32),\n",
    "            nn.ReLU(),\n",
    "            nn.Dropout(0.3)\n",
    "            )\n",
    "        self.combined_dense_layers = nn.Sequential(\n",
    "            nn.Linear(64, 32),\n",
    "            nn.BatchNorm1d(32),\n",
    "            nn.ReLU(),\n",
    "            nn.Linear(32, 32),\n",
    "            nn.BatchNorm1d(32),\n",
    "            nn.ReLU(),\n",
    "            nn.Linear(32, 32),\n",
    "            nn.BatchNorm1d(32),\n",
    "            nn.ReLU(),\n",
    "            nn.Dropout(0.3)\n",
    "        )        \n",
    "        \n",
    "\n"
   ]
  }
 ],
 "metadata": {
  "kernelspec": {
   "display_name": ".venv",
   "language": "python",
   "name": "python3"
  },
  "language_info": {
   "codemirror_mode": {
    "name": "ipython",
    "version": 3
   },
   "file_extension": ".py",
   "mimetype": "text/x-python",
   "name": "python",
   "nbconvert_exporter": "python",
   "pygments_lexer": "ipython3",
   "version": "3.12.9"
  }
 },
 "nbformat": 4,
 "nbformat_minor": 2
}
